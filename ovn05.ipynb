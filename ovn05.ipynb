{
  "nbformat": 4,
  "nbformat_minor": 0,
  "metadata": {
    "colab": {
      "provenance": [],
      "toc_visible": true
    },
    "kernelspec": {
      "name": "python3",
      "display_name": "Python 3"
    },
    "language_info": {
      "name": "python"
    }
  },
  "cells": [
    {
      "cell_type": "markdown",
      "source": [
        "# DD1318 - Övning 5"
      ],
      "metadata": {
        "id": "9e1_XXJAT_Nz"
      }
    },
    {
      "cell_type": "markdown",
      "source": [
        "Welcome! This is a Colab Notebook. It enables us to run small blocks of python, show graphical output and have some explanatory bits of text inbetween. You can run it here in the browser or locally by using jupyter. Try pressing the play button to the left of the following code snippet!"
      ],
      "metadata": {
        "id": "F8-qWgOaUE62"
      }
    },
    {
      "cell_type": "code",
      "source": [
        "print(\"Hello World!\")"
      ],
      "metadata": {
        "id": "W4AiZAvUUGFD",
        "outputId": "787fa2b2-bab9-4c6c-8373-f87c8bf6bf67",
        "colab": {
          "base_uri": "https://localhost:8080/"
        }
      },
      "execution_count": null,
      "outputs": [
        {
          "output_type": "stream",
          "name": "stdout",
          "text": [
            "Hello World!\n"
          ]
        }
      ]
    },
    {
      "cell_type": "markdown",
      "source": [
        "## Recap"
      ],
      "metadata": {
        "id": "bvM7TLE0UAYZ"
      }
    },
    {
      "cell_type": "code",
      "source": [
        "# TRY - EXCEPT - ELSE - FINALLY\n",
        "try:\n",
        "  f = open(\"demofile.txt\")\n",
        "  try:\n",
        "    f.write(\"Lorum Ipsum\")\n",
        "  except:\n",
        "    print(\"Something went wrong when writing to the file\")\n",
        "  finally:\n",
        "    f.close()\n",
        "except:\n",
        "  print(\"Something went wrong when opening the file\")\n",
        "else:\n",
        "  print(\"Writing to the file was successful!\")"
      ],
      "metadata": {
        "id": "EQhJUYQoUNz4"
      },
      "execution_count": null,
      "outputs": []
    },
    {
      "cell_type": "code",
      "source": [
        "# Raise exceptions\n",
        "x = \"hello\"\n",
        "\n",
        "if not type(x) is int:\n",
        "  raise TypeError(\"Only integers are allowed\")"
      ],
      "metadata": {
        "id": "JebPKjxtUm32"
      },
      "execution_count": null,
      "outputs": []
    },
    {
      "cell_type": "code",
      "source": [
        "# Opening files from url\n",
        "from urllib.request import urlopen\n",
        "\n",
        "response = urlopen(\"http://api.nobelprize.org/v1/prize.json\")\n",
        "print(response.read())"
      ],
      "metadata": {
        "id": "m88Ff_c8UvHL"
      },
      "execution_count": null,
      "outputs": []
    },
    {
      "cell_type": "code",
      "source": [
        "# Parsing strings in JSON format into a dict\n",
        "from urllib.request import urlopen\n",
        "import json\n",
        "\n",
        "response = urlopen(\"http://api.nobelprize.org/v1/prize.json\")\n",
        "data_json = json.loads(response.read())\n",
        "print(data_json)"
      ],
      "metadata": {
        "id": "4MI3j2-AU_uk"
      },
      "execution_count": null,
      "outputs": []
    },
    {
      "cell_type": "markdown",
      "source": [
        "## New Vocabulary"
      ],
      "metadata": {
        "id": "ZyhHx5kzVXS7"
      }
    },
    {
      "cell_type": "markdown",
      "source": [
        "### Break & Continue"
      ],
      "metadata": {
        "id": "KGApl2voVer6"
      }
    },
    {
      "cell_type": "code",
      "source": [
        "for i in range(1,11):\n",
        "  print(i)"
      ],
      "metadata": {
        "id": "NjgI6x0AVZDk"
      },
      "execution_count": null,
      "outputs": []
    },
    {
      "cell_type": "code",
      "source": [
        "for i in range(1,11):\n",
        "  # skip every even number\n",
        "  if i % 2 == 0:\n",
        "    continue\n",
        "  # print everything else\n",
        "  print(i)"
      ],
      "metadata": {
        "id": "P9KaIXiiVpoc"
      },
      "execution_count": null,
      "outputs": []
    },
    {
      "cell_type": "code",
      "source": [
        "my_list = [1,1]\n",
        "while True:\n",
        "  new_number = my_list[-1] + my_list[-2]\n",
        "  my_list.append(new_number)\n",
        "  print(new_number)\n",
        "\n",
        "  if len(my_list) > 20:\n",
        "    break\n"
      ],
      "metadata": {
        "id": "gpypF6uBV8r5"
      },
      "execution_count": null,
      "outputs": []
    },
    {
      "cell_type": "markdown",
      "source": [
        "### Sorting"
      ],
      "metadata": {
        "id": "tJYdLQ-dNY75"
      }
    },
    {
      "cell_type": "code",
      "source": [
        "# sort a list - works for most standard types\n",
        "a = [12, 45, 2, 6, 7, 8, 61]\n",
        "a.sort()\n",
        "print(a)"
      ],
      "metadata": {
        "colab": {
          "base_uri": "https://localhost:8080/"
        },
        "id": "07TOU9FSNcHU",
        "outputId": "0090b21a-f402-4c2d-fdde-ea49d8548e6f"
      },
      "execution_count": null,
      "outputs": [
        {
          "output_type": "stream",
          "name": "stdout",
          "text": [
            "[2, 6, 7, 8, 12, 45, 61]\n"
          ]
        }
      ]
    },
    {
      "cell_type": "code",
      "source": [
        "# get a sorted copy of a list\n",
        "b = [12, 45, 2, 6, 7, 8, 61]\n",
        "print('Sorted:', sorted(b))\n",
        "print('Original after sorting:',b)"
      ],
      "metadata": {
        "colab": {
          "base_uri": "https://localhost:8080/"
        },
        "id": "VGqcEiQvNzx9",
        "outputId": "78f10067-fa8c-4e54-d44f-044aee452002"
      },
      "execution_count": null,
      "outputs": [
        {
          "output_type": "stream",
          "name": "stdout",
          "text": [
            "Sorted: [2, 6, 7, 8, 12, 45, 61]\n",
            "Original after sorting: [12, 45, 2, 6, 7, 8, 61]\n"
          ]
        }
      ]
    },
    {
      "cell_type": "code",
      "source": [
        "# sorting non-standard datatypes\n",
        "students = [\n",
        "    {\"name\":\"georg\", \"age\":29},\n",
        "    {\"name\":\"fred\", \"age\":15},\n",
        "    {\"name\":\"lisa\", \"age\":45}\n",
        "]\n",
        "\n",
        "def get_age(s):\n",
        "  return s[\"age\"]\n",
        "\n",
        "sorted(students, key=get_age)"
      ],
      "metadata": {
        "colab": {
          "base_uri": "https://localhost:8080/"
        },
        "id": "-JX1w9tLOB0L",
        "outputId": "bf82f208-a2f3-4304-dd6a-cc0a601e6bc5"
      },
      "execution_count": null,
      "outputs": [
        {
          "output_type": "execute_result",
          "data": {
            "text/plain": [
              "[{'name': 'fred', 'age': 15},\n",
              " {'name': 'georg', 'age': 29},\n",
              " {'name': 'lisa', 'age': 45}]"
            ]
          },
          "metadata": {},
          "execution_count": 8
        }
      ]
    },
    {
      "cell_type": "code",
      "source": [
        "# sorting non-standard datatypes with LAMBDA FUNCTIONS\n",
        "students = [\n",
        "    {\"name\":\"georg\", \"age\":29},\n",
        "    {\"name\":\"fred\", \"age\":15},\n",
        "    {\"name\":\"lisa\", \"age\":45}\n",
        "]\n",
        "\n",
        "sorted(students, key= lambda s : s[\"age\"])"
      ],
      "metadata": {
        "colab": {
          "base_uri": "https://localhost:8080/"
        },
        "id": "TwWiuK0nPIfg",
        "outputId": "b80be66a-b0fa-417b-86d4-d350a9274899"
      },
      "execution_count": null,
      "outputs": [
        {
          "output_type": "execute_result",
          "data": {
            "text/plain": [
              "[{'name': 'fred', 'age': 15},\n",
              " {'name': 'georg', 'age': 29},\n",
              " {'name': 'lisa', 'age': 45}]"
            ]
          },
          "metadata": {},
          "execution_count": 9
        }
      ]
    },
    {
      "cell_type": "markdown",
      "source": [
        "### Matplotlib"
      ],
      "metadata": {
        "id": "8lehGI-_-bkb"
      }
    },
    {
      "cell_type": "code",
      "source": [
        "# import the library\n",
        "import matplotlib.pyplot as plt\n",
        "\n",
        "# plot some datapoints\n",
        "plt.plot([1,2,3,4,10])\n",
        "# display!\n",
        "plt.show()"
      ],
      "metadata": {
        "colab": {
          "base_uri": "https://localhost:8080/",
          "height": 265
        },
        "id": "XhLvNmYY_fus",
        "outputId": "bd969dc5-d761-48ca-a971-ad9ac1f69c67"
      },
      "execution_count": 4,
      "outputs": [
        {
          "output_type": "display_data",
          "data": {
            "text/plain": [
              "<Figure size 432x288 with 1 Axes>"
            ],
            "image/png": "[encoded data removed]"
          },
          "metadata": {
            "needs_background": "light"
          }
        }
      ]
    },
    {
      "cell_type": "code",
      "source": [
        "import matplotlib.pyplot as plt\n",
        "\n",
        "# example data\n",
        "langs = ['C', 'C++', 'Java', 'Python', 'PHP']\n",
        "students = [23,17,35,29,12] \n",
        "# make a new figure\n",
        "fig = plt.figure()\n",
        "ax = fig.add_axes([0,0,1,1])\n",
        "ax.bar(langs,students)\n",
        "plt.show()"
      ],
      "metadata": {
        "colab": {
          "base_uri": "https://localhost:8080/",
          "height": 336
        },
        "id": "YMLfvdnr-bGL",
        "outputId": "741ad262-d56b-44ed-d76f-a64ff8a1262a"
      },
      "execution_count": 2,
      "outputs": [
        {
          "output_type": "display_data",
          "data": {
            "text/plain": [
              "<Figure size 432x288 with 1 Axes>"
            ],
            "image/png": "[encoded data removed]"
          },
          "metadata": {
            "needs_background": "light"
          }
        }
      ]
    },
    {
      "cell_type": "markdown",
      "source": [
        "## More dictionary exercises - Letter frequency\n",
        "\n",
        "\n"
      ],
      "metadata": {
        "id": "WqXP_z5PWeYE"
      }
    },
    {
      "cell_type": "code",
      "source": [
        "import matplotlib.pyplot as plt\n",
        "\n",
        "def letter_count(text):\n",
        "  \"\"\"\n",
        "  Returns a dictionary with letters as keys and number of occurrences as values. \n",
        "  Lower- and uppercase letters should be considered the same letter.\n",
        "  >>> letter_count(\"Abba\")\n",
        "  {\"a\": 2, \"b\": 2}\n",
        "  \"\"\"\n",
        "  letters = {}\n",
        "  return letters\n",
        "\n",
        "def relative_letter_count(text):\n",
        "  \"\"\"\n",
        "  Returns a dictionary with letters as keys and number of RELATIVE occurrences as values. \n",
        "  Lower- and uppercase letters should be considered the same letter.\n",
        "  >>> letter_count(\"Abba\")\n",
        "  {\"a\": 0.5, \"b\": 0.5}\n",
        "  \"\"\"\n",
        "  letters = {}\n",
        "  return letters\n",
        "\n",
        "\n",
        "def bar_chart(letter_dict):\n",
        "  \"\"\"\n",
        "  Plot the letters and their #no. of occurrence given as a dict into a bar chart.\n",
        "  \"\"\"\n",
        "  # this is dummy data - CHANGE IT\n",
        "  langs = ['C', 'C++', 'Java', 'Python', 'PHP']\n",
        "  students = [23,17,35,29,12]\n",
        "\n",
        "  # plotting with matplotlib\n",
        "  fig = plt.figure()\n",
        "  ax = fig.add_axes([0,0,1,1])\n",
        "  ax.bar(langs,students)\n",
        "  plt.show()\n",
        "\n",
        "\n",
        "if __name__ == \"__main__\":\n",
        "  foreign_text = \"Gastronomía latinoamericana gana popularidad en Estados Unidos. El crecimiento y la diversidad de la población hispana, es uno de los factores principales que explica los distintos sabores que inundan la cocina del continente. Por sobre todo, los platos fusión son los preferidos entre los chefs. Ceviche de pescado con mousse de jalapeño, queso a la parrilla con una conserva agridulce de ciruela y pimiento relleno de quínoa con mole de achiote y almendras son algunos de los nuevos platillos creados por una innovadora generación de chefs hispanos. En la última década la gastronomía latinoamericana ha ganado gran popularidad en Estados Unidos, en parte, por el crecimiento y diversidad de la población hispana. Sin embargo, los chefs latinos han jugado un papel esencial en esta revolución culinaria, según indicó Jorge Ramírez, un chef de 25 años de experiencia en City of Commerce, California.- Los chefs latinos no nos olvidamos de nuestras raíces, por lo tanto siempre estamos creciendo y apoyando nuestra comida latina, dijo. La popularidad de nuestra gastronomía se debe a esa gran diversidad de sabores que llegaron de todas partes del mundo a Latinoamérica. Es lo que hace nuestra comida rica y única. Ramírez apuntó que parte de esta revolución culinaria está enfocada en dar a conocer las comidas vegetarianas propias de los pueblos de América Latina. Esta tendencia ha atraído a personas interesadas en una alimentación saludable. Originalmente nuestra comida latina prehispánica era en un 80 % vegetariana, dijo. La chef Susie Jiménez tuvo esto en mente al crear el menú de su nuevo restaurante Trenza, en Houston (Texas). Esta cocinera de Aspen (Colorado) espera desafiar las nociones que la gente tiene de la comida latina mezclando los sabores mexicanos con los de la India, como el platillo compuesto por empanadas de pollo marinado con especias de la India. Por su parte, Luis Amado, chef pastelero y profesor en el Instituto de Artes Culinarias de Michigan, señaló que tanto los chefs como el público en general están reconociendo más la gama de sabores y variedad de la gastronomía latina, aunque la responsabilidad de demostrar las técnicas culinarias de América Latina cae en los hombros de los chefs hispanos. Es evidente que el crecimiento de la gastronomía latinoamericana continuará influenciando los menúes de restaurantes, y, según un reporte de la Asociación Nacional de Restaurantes, entre las tendencias populares para 2013 están platillos inspirados con sabores latinos y la aparición de más camiones de comida de la calle.\"\n",
        "  bar_chart(letter_count(foreign_text))\n",
        "  bar_chart(relative_letter_count(foreign_text))\n",
        "\n",
        "  # COMPARE https://en.wikipedia.org/wiki/Letter_frequency\n"
      ],
      "metadata": {
        "id": "DPE0GPGLWlfs",
        "colab": {
          "base_uri": "https://localhost:8080/",
          "height": 655
        },
        "outputId": "ac417473-346f-4f0e-874f-f3a3f1fc8a5d"
      },
      "execution_count": null,
      "outputs": [
        {
          "output_type": "display_data",
          "data": {
            "text/plain": [
              "<Figure size 432x288 with 1 Axes>"
            ],
            "image/png": "[encoded data removed]"
          },
          "metadata": {
            "needs_background": "light"
          }
        },
        {
          "output_type": "display_data",
          "data": {
            "text/plain": [
              "<Figure size 432x288 with 1 Axes>"
            ],
            "image/png": "[encoded data removed]"
          },
          "metadata": {
            "needs_background": "light"
          }
        }
      ]
    }
  ]
}