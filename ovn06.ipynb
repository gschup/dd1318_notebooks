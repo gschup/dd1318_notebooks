{
  "nbformat": 4,
  "nbformat_minor": 0,
  "metadata": {
    "colab": {
      "provenance": [],
      "toc_visible": true
    },
    "kernelspec": {
      "name": "python3",
      "display_name": "Python 3"
    },
    "language_info": {
      "name": "python"
    }
  },
  "cells": [
    {
      "cell_type": "markdown",
      "source": [
        "# DD1318 - Övning 6"
      ],
      "metadata": {
        "id": "9e1_XXJAT_Nz"
      }
    },
    {
      "cell_type": "markdown",
      "source": [
        "Welcome! This is a Colab Notebook. It enables us to run small blocks of python, show graphical output and have some explanatory bits of text inbetween. You can run it here in the browser or locally by using jupyter. Try pressing the play button to the left of the following code snippet!"
      ],
      "metadata": {
        "id": "F8-qWgOaUE62"
      }
    },
    {
      "cell_type": "code",
      "source": [
        "print(\"Hello World!\")"
      ],
      "metadata": {
        "id": "W4AiZAvUUGFD",
        "colab": {
          "base_uri": "https://localhost:8080/"
        },
        "outputId": "9d1b2e22-6e73-4681-b892-d6cd0a302326"
      },
      "execution_count": null,
      "outputs": [
        {
          "output_type": "stream",
          "name": "stdout",
          "text": [
            "Hello World!\n"
          ]
        }
      ]
    },
    {
      "cell_type": "markdown",
      "source": [
        "## Bonus Points"
      ],
      "metadata": {
        "id": "bvM7TLE0UAYZ"
      }
    },
    {
      "cell_type": "markdown",
      "source": [
        "## Object-Oriented Programming"
      ],
      "metadata": {
        "id": "ZZ8mRl0GaI3Y"
      }
    },
    {
      "cell_type": "markdown",
      "source": [
        "**Objects** are bundled data with some attached functionality.\n",
        "**Classes** are blueprints for objects.\n",
        "\n",
        "[This site](https://www.w3schools.com/python/python_classes.asp) has a pretty solid tutorial for python class basics."
      ],
      "metadata": {
        "id": "lOsdMBVkc-uR"
      }
    },
    {
      "cell_type": "markdown",
      "source": [
        "### Objects as \"bundles of data\""
      ],
      "metadata": {
        "id": "SGd1IN_JfQYk"
      }
    },
    {
      "cell_type": "code",
      "source": [
        "class Fridge:\n",
        "  def __init__(self):\n",
        "    self.temp = 5.5\n",
        "    self.contents = []\n",
        "\n",
        "\n",
        "if __name__ == \"__main__\":\n",
        "  my_fridge = Fridge()\n",
        "  \n",
        "  print(my_fridge.temp)\n",
        "  print(my_fridge.contents)\n",
        "  my_fridge.contents.append(\"Celerie\")\n",
        "  print(my_fridge.contents)"
      ],
      "metadata": {
        "colab": {
          "base_uri": "https://localhost:8080/"
        },
        "id": "YvBTsLI9fW7b",
        "outputId": "d7576b52-b386-47e3-f3c7-27bc86236c71"
      },
      "execution_count": null,
      "outputs": [
        {
          "output_type": "stream",
          "name": "stdout",
          "text": [
            "5.5\n",
            "[]\n",
            "['Celerie']\n"
          ]
        }
      ]
    },
    {
      "cell_type": "code",
      "source": [
        "# so why not just like this?\n",
        "def new_fridge():\n",
        "  return {\n",
        "    \"temp\": 5.5,\n",
        "    \"contents\": [\"celerie\"]\n",
        "  }"
      ],
      "metadata": {
        "id": "KsZOLvoJea46"
      },
      "execution_count": null,
      "outputs": []
    },
    {
      "cell_type": "markdown",
      "source": [
        "### Methods - functions attached to objects"
      ],
      "metadata": {
        "id": "OWJqH0VMfL8X"
      }
    },
    {
      "cell_type": "code",
      "source": [
        "class Person:\n",
        "  def __init__(self, name, age):\n",
        "    self.name = name\n",
        "    self.age = age\n",
        "  \n",
        "  def make_some_noise(self):\n",
        "    print(\"Hej, my name is\", self.name, \"and I am\", self.age, \"years old.\")\n",
        "  \n",
        "  def get_older(self, years):\n",
        "    self.age += years\n",
        "\n",
        "\n",
        "if __name__ == \"__main__\":  \n",
        "  p1 = Person(\"John\", 36)\n",
        "  p2 = Person(\"Georg\", 29)\n",
        "\n",
        "  p1.make_some_noise()\n",
        "  p1.get_older(20)\n",
        "  p1.make_some_noise()\n",
        "  p2.make_some_noise()"
      ],
      "metadata": {
        "colab": {
          "base_uri": "https://localhost:8080/"
        },
        "id": "7OrTKR58dKsY",
        "outputId": "f86a6045-b288-458f-e357-57991403c679"
      },
      "execution_count": null,
      "outputs": [
        {
          "output_type": "stream",
          "name": "stdout",
          "text": [
            "Hej, my name is John and I am 36 years old.\n",
            "Hej, my name is John and I am 56 years old.\n",
            "Hej, my name is Georg and I am 29 years old.\n"
          ]
        }
      ]
    },
    {
      "cell_type": "code",
      "source": [
        "# well, I can also do that with a dict, duh!\n",
        "def new_person(name, age):\n",
        "  return {\n",
        "    \"name\": name,\n",
        "    \"age\": age\n",
        "  }\n",
        "\n",
        "def make_some_noise(person):\n",
        "    print(\"Hej, my name is\", person[\"name\"], \"and I am\", person[\"age\"], \"years old.\")\n",
        "  \n",
        "def get_older(person, years):\n",
        "    person[\"age\"] += years\n",
        "\n",
        "my_dict_person = new_person(\"Georg\", 29)\n",
        "get_older(my_dict_person, 20)\n",
        "make_some_noise(my_dict_person)"
      ],
      "metadata": {
        "id": "hMUiRvGKfkSi",
        "colab": {
          "base_uri": "https://localhost:8080/"
        },
        "outputId": "8e58c9a0-6976-40e3-c2c9-66980e62b8e3"
      },
      "execution_count": 3,
      "outputs": [
        {
          "output_type": "stream",
          "name": "stdout",
          "text": [
            "Hej, my name is Georg and I am 49 years old.\n"
          ]
        }
      ]
    },
    {
      "cell_type": "markdown",
      "source": [
        "### Inheritance"
      ],
      "metadata": {
        "id": "4YhqJWLQivYB"
      }
    },
    {
      "cell_type": "code",
      "source": [
        "class Car:\n",
        "  def __init__(self, color):\n",
        "    self.tires = 4\n",
        "    self.color = color\n",
        "\n",
        "class Bus(Car):\n",
        "  def __init__(self, color):\n",
        "    super().__init__(color)\n",
        "    self.capacity = 50\n",
        "\n",
        "\n",
        "if __name__ == \"__main__\":\n",
        "  my_bus = Bus(\"green\")\n",
        "  print(my_bus.tires)\n",
        "  print(my_bus.capacity)\n",
        "\n",
        "  my_car = Car(\"green\")\n",
        "  print(my_car.capacity)\n"
      ],
      "metadata": {
        "colab": {
          "base_uri": "https://localhost:8080/",
          "height": 235
        },
        "id": "5Ak9b4vFiw0A",
        "outputId": "4aa598fc-8341-405c-e2f2-716afb9a580b"
      },
      "execution_count": null,
      "outputs": [
        {
          "output_type": "stream",
          "name": "stdout",
          "text": [
            "4\n",
            "50\n"
          ]
        },
        {
          "output_type": "error",
          "ename": "AttributeError",
          "evalue": "ignored",
          "traceback": [
            "\u001b[0;31m---------------------------------------------------------------------------\u001b[0m",
            "\u001b[0;31mAttributeError\u001b[0m                            Traceback (most recent call last)",
            "\u001b[0;32m<ipython-input-8-b82b7ae0cd3f>\u001b[0m in \u001b[0;36m<module>\u001b[0;34m()\u001b[0m\n\u001b[1;32m     16\u001b[0m \u001b[0;34m\u001b[0m\u001b[0m\n\u001b[1;32m     17\u001b[0m   \u001b[0mmy_car\u001b[0m \u001b[0;34m=\u001b[0m \u001b[0mCar\u001b[0m\u001b[0;34m(\u001b[0m\u001b[0;34m\"green\"\u001b[0m\u001b[0;34m)\u001b[0m\u001b[0;34m\u001b[0m\u001b[0;34m\u001b[0m\u001b[0m\n\u001b[0;32m---> 18\u001b[0;31m   \u001b[0mprint\u001b[0m\u001b[0;34m(\u001b[0m\u001b[0mmy_car\u001b[0m\u001b[0;34m.\u001b[0m\u001b[0mcapacity\u001b[0m\u001b[0;34m)\u001b[0m\u001b[0;34m\u001b[0m\u001b[0;34m\u001b[0m\u001b[0m\n\u001b[0m",
            "\u001b[0;31mAttributeError\u001b[0m: 'Car' object has no attribute 'capacity'"
          ]
        }
      ]
    },
    {
      "cell_type": "markdown",
      "source": [
        "### Let's make something cool with it!"
      ],
      "metadata": {
        "id": "z7-CuRo1kGLz"
      }
    },
    {
      "cell_type": "code",
      "source": [
        "from abc import ABC, abstractmethod\n",
        "import math\n",
        "\n",
        "# This is our Abstract Base Class\n",
        "class Polygon(ABC):\n",
        "  def __init__(self, id):\n",
        "    self.id = id\n",
        "\n",
        "  def __str__(self):\n",
        "    return \"POLYGON \"+ str(self.id) + \"is a \" + type(self).__name__ + \" with area \" + str(self.area())\n",
        "\n",
        "  def get_id(self):\n",
        "    return self.id\n",
        "\n",
        "  @abstractmethod\n",
        "  def area(self):\n",
        "    pass\n",
        "\n",
        "# A rectangle class that makes use of the base class\n",
        "class Rectangle(Polygon):\n",
        "  def __init__(self, id, width, height):\n",
        "    super().__init__(id)\n",
        "    self.w = width\n",
        "    self.h = height\n",
        "\n",
        "  def area(self):\n",
        "    return self.w * self.h\n",
        "\n",
        "# A circle class that makes use of the base class, similar to rectangle, but different area\n",
        "class Circle(Polygon):\n",
        "  def __init__(self, id, radius):\n",
        "    super().__init__(id)\n",
        "    self.r = radius\n",
        "\n",
        "  def area(self):\n",
        "    return 2*math.pi*self.r*self.r\n",
        "\n",
        "# Special case of the rectangle\n",
        "class Square(Rectangle):\n",
        "  def __init__(self, id, side):\n",
        "    super().__init__(id, side, side)\n",
        "  \n",
        "\n",
        "if __name__ == \"__main__\":\n",
        "  rect = Rectangle(id=5, width=10, height=7)\n",
        "  circ = Circle(id=6, radius=5)\n",
        "  squ = Square(id=4, side=10)\n",
        "\n",
        "  shapes = [rect, circ, squ]\n",
        "\n",
        "  for shape in shapes:\n",
        "    print(shape)"
      ],
      "metadata": {
        "id": "r8BpJkwSk_0W",
        "colab": {
          "base_uri": "https://localhost:8080/"
        },
        "outputId": "7d0f3a92-ef09-41df-a31c-125210984184"
      },
      "execution_count": 6,
      "outputs": [
        {
          "output_type": "stream",
          "name": "stdout",
          "text": [
            "POLYGON 5is a Rectangle with area 70\n",
            "POLYGON 6is a Circle with area 157.07963267948966\n",
            "POLYGON 4is a Square with area 100\n"
          ]
        }
      ]
    },
    {
      "cell_type": "markdown",
      "source": [
        "## Exercise!\n",
        "\n",
        "Let's make a small simulated farm! Each farm has a list of animals that live there. Animals can get hungry and be fed.\n",
        "\n",
        "\n",
        "\n",
        "*   Make an abstract Animal class. \n",
        "  - Each animal is hungry or not (boolean). \n",
        "  - Each animal also remembers the number of days since it was last fed. \n",
        "  - Each animal needs to have a pass_time() function that is specific to the animal.\n",
        "  - Each animal needs to have a feed() function that resets the days it was last fed and the hungry status.\n",
        "*   Implement a Pig and a Cow class that are both animals.\n",
        "  - pigs get hungry every day. Everytime when time passes, it changes its status to hungry.\n",
        "  - cows get hungry every second day (this is not realistic, please feed your cows).\n",
        "*   Implement a farm class.\n",
        "  - each farm has a list of animals that live there.\n",
        "  - each farm has a name.\n",
        "  - each farm has a function pass_time(). When time passes on the farm, time passes for all animals that live there.\n",
        "*   Create your specific farm with a name of your choosing.\n",
        "*   Add a few cows and a few pigs to your farm.\n",
        "*   make a loop where time passes 7 times.\n",
        "*   Every day after time passes on your farm, check all animals and see if they are hungry. feed only the hungry animals!\n",
        "\n"
      ],
      "metadata": {
        "id": "ABf5_vAXDuiO"
      }
    },
    {
      "cell_type": "code",
      "source": [],
      "metadata": {
        "id": "fYv_doPVDxYO"
      },
      "execution_count": null,
      "outputs": []
    }
  ]
}